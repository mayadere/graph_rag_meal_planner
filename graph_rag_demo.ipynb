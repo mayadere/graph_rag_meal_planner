# Import necessary libraries
import pandas as pd
from py2neo import Graph
from dotenv import load_dotenv
import os

# Load environment variables from .env file
load_dotenv()

# Fetch the Neo4j connection details from the .env file
NEO4J_URI = os.getenv("NEO4J_URI")
NEO4J_USER = os.getenv("NEO4J_USER")
NEO4J_PASSWORD = os.getenv("NEO4J_PASSWORD")

# Connect to the Neo4j database
graph = Graph(NEO4J_URI, auth=(NEO4J_USER, NEO4J_PASSWORD))

# Display success message
print("Connected to Neo4j successfully!")

# Now, let's load data and prepare it for graph-based operations.

# Sample data (You can replace this with your data file or data extraction step)
# For this demo, we will simulate a portion of your dataset.
data = {
    "Recipe ID": [199168, 199168, 199168, 199168],
    "Recipe Name": ["Assorted breakfast condiments", "Assorted breakfast condiments", "Assorted breakfast condiments", "Assorted breakfast condiments"],
    "Ingredient Name": ["Soy Sauce", "Sweet Chili Sauce", "Vegemite", "Raspberry Jam"],
    "Supplier DC Name": ["Supplier1", "Supplier1", "Supplier1", "Supplier1"],
    "Category": ["Asian Sauces", "Asian Sauces", "Savoury Spread", "Sweet Spread"],
    "Quantity per Portion": [0.002205, 2.20588125, 2.20588125, 2.20588125],
    "Meal Period": ["Breakfast", "Breakfast", "Breakfast", "Breakfast"],
    "Recipe Uptake %": [100, 100, 100, 100],
}

# Create a DataFrame
df = pd.DataFrame(data)

# Display the sample data
df.head()

# Let's create a Neo4j graph from this data. We will assume the data is related to recipes and ingredients.

# Start by creating nodes for Recipe and Ingredient
for _, row in df.iterrows():
    # Create Recipe node
    recipe_query = f"""
    MERGE (r:Recipe {{id: {row['Recipe ID']}, name: '{row['Recipe Name']}', uptake: {row['Recipe Uptake %']}})
    """
    graph.run(recipe_query)

    # Create Ingredient node
    ingredient_query = f"""
    MERGE (i:Ingredient {{name: '{row['Ingredient Name']}', category: '{row['Category']}', quantity: {row['Quantity per Portion']}})
    """
    graph.run(ingredient_query)

    # Create a relationship between Recipe and Ingredient
    relationship_query = f"""
    MATCH (r:Recipe {{id: {row['Recipe ID']}}}), (i:Ingredient {{name: '{row['Ingredient Name']}'}})
    MERGE (r)-[:CONTAINS]->(i)
    """
    graph.run(relationship_query)

# Verify that the nodes and relationships were created successfully
recipe_ingredients = graph.run("MATCH (r:Recipe)-[:CONTAINS]->(i:Ingredient) RETURN r.name, i.name LIMIT 5").data()
print(recipe_ingredients)

# Now, let's implement the meal planner functionality using constraints.
# Example: Find all ingredients used in "Assorted breakfast condiments" recipe
recipe_name = "Assorted breakfast condiments"

ingredient_query = f"""
MATCH (r:Recipe)-[:CONTAINS]->(i:Ingredient)
WHERE r.name = '{recipe_name}'
RETURN i.name, i.category, i.quantity LIMIT 5
"""
ingredients_list = graph.run(ingredient_query).data()
print(f"Ingredients for {recipe_name}:")
print(ingredients_list)

# Function to generate a meal plan based on contract constraints
def generate_meal_plan(start_date, end_date, meal_period="Breakfast", section="Accompaniments"):
    meal_plan_query = f"""
    MATCH (r:Recipe)-[:CONTAINS]->(i:Ingredient)
    WHERE r.name CONTAINS 'breakfast' AND r.uptake = 100
    RETURN r.name AS Recipe, i.name AS Ingredient, r.id AS RecipeID, '{start_date}' AS Date, '{meal_period}' AS MealPeriod, '{section}' AS Section
    """
    meal_plan = graph.run(meal_plan_query).data()
    return pd.DataFrame(meal_plan)

# Generate a sample meal plan for the period 02-Dec-2024 to 15-Dec-2024
meal_plan = generate_meal_plan("02-Dec-2024", "15-Dec-2024")
print(meal_plan)

# Save the meal plan to a CSV for further analysis or use
meal_plan.to_csv("meal_plan_output.csv", index=False)

# End of demo
